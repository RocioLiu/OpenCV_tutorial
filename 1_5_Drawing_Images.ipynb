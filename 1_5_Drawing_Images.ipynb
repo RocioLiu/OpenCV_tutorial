{
  "nbformat": 4,
  "nbformat_minor": 0,
  "metadata": {
    "colab": {
      "name": "1-5_Drawing Images.ipynb",
      "provenance": [],
      "collapsed_sections": [],
      "include_colab_link": true
    },
    "kernelspec": {
      "name": "python3",
      "display_name": "Python 3"
    }
  },
  "cells": [
    {
      "cell_type": "markdown",
      "metadata": {
        "id": "view-in-github",
        "colab_type": "text"
      },
      "source": [
        "<a href=\"https://colab.research.google.com/github/RocioLiu/OpenCV_tutorial/blob/master/1_5_Drawing_Images.ipynb\" target=\"_parent\"><img src=\"https://colab.research.google.com/assets/colab-badge.svg\" alt=\"Open In Colab\"/></a>"
      ]
    },
    {
      "cell_type": "markdown",
      "metadata": {
        "id": "7bN_DTI4wYJh",
        "colab_type": "text"
      },
      "source": [
        "## Drawing images and shapes using OpenCV\n",
        "\n",
        "Let's start off my making a black square"
      ]
    },
    {
      "cell_type": "code",
      "metadata": {
        "id": "T_WOMB_qwNA-",
        "colab_type": "code",
        "colab": {
          "base_uri": "https://localhost:8080/",
          "height": 1000
        },
        "outputId": "70fcf904-2b94-474d-a3a9-59bc44c968ed"
      },
      "source": [
        "import cv2\n",
        "import numpy as np\n",
        "from google.colab.patches import cv2_imshow\n",
        "\n",
        "# Create a black image\n",
        "image = np.zeros((512,512,3), np.uint8)\n",
        "\n",
        "# Can we make this in black and white?\n",
        "image_bw = np.zeros((512,512), np.uint8)\n",
        "\n",
        "\n",
        "cv2_imshow(image)\n",
        "cv2_imshow(image_bw)\n",
        "\n",
        "cv2.waitKey(0)\n",
        "cv2.destroyAllWindows()"
      ],
      "execution_count": 2,
      "outputs": [
        {
          "output_type": "display_data",
          "data": {
            "image/png": "[encoded data removed]",
            "text/plain": [
              "<PIL.Image.Image image mode=RGB size=512x512 at 0x7F6D0F7686D8>"
            ]
          },
          "metadata": {
            "tags": []
          }
        },
        {
          "output_type": "display_data",
          "data": {
            "image/png": "[encoded data removed]",
            "text/plain": [
              "<PIL.Image.Image image mode=L size=512x512 at 0x7F6D2B072C88>"
            ]
          },
          "metadata": {
            "tags": []
          }
        }
      ]
    },
    {
      "cell_type": "code",
      "metadata": {
        "id": "p_6_cWlMxUb0",
        "colab_type": "code",
        "colab": {}
      },
      "source": [
        ""
      ],
      "execution_count": 0,
      "outputs": []
    }
  ]
}